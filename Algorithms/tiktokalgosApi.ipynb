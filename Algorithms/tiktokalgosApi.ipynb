{
  "cells": [
    {
      "cell_type": "markdown",
      "metadata": {
        "colab_type": "text",
        "id": "view-in-github"
      },
      "source": [
        "<a href=\"https://colab.research.google.com/github/gtanvi58/thic-tok-music/blob/master/Algorithms/tiktokalgosApi.ipynb\" target=\"_parent\"><img src=\"https://colab.research.google.com/assets/colab-badge.svg\" alt=\"Open In Colab\"/></a>"
      ]
    },
    {
      "cell_type": "code",
      "execution_count": null,
      "metadata": {
        "colab": {
          "base_uri": "https://localhost:8080/"
        },
        "collapsed": true,
        "id": "Gq4DmlaFP-pk",
        "outputId": "53f0736a-1202-4b1f-b32d-de18b5f1a43a"
      },
      "outputs": [],
      "source": [
        "!pip install colabcode\n",
        "!pip install fastapi\n",
        "!pip install spotipy\n",
        "!pip install pymongo"
      ]
    },
    {
      "cell_type": "code",
      "execution_count": null,
      "metadata": {
        "colab": {
          "base_uri": "https://localhost:8080/"
        },
        "id": "7aWVn11re5pp",
        "outputId": "954c3276-af73-462b-9f05-8480987ea5ec"
      },
      "outputs": [],
      "source": [
        "import spotipy\n",
        "from spotipy.oauth2 import SpotifyOAuth\n",
        "\n",
        "# Replace these with your actual Spotify API credentials\n",
        "CLIENT_ID = 'your-spotify-developer-account-client-id'\n",
        "CLIENT_SECRET = 'your-spotify-developer-account-client-secret'\n",
        "REDIRECT_URI = 'your-spotify-developer-account-redirect-uri' # Ensure this matches the redirect URI set in your Spotify app\n",
        "\n",
        "# Define the scope of the permissions your app needs\n",
        "SCOPE = 'user-library-read user-top-read'\n",
        "\n",
        "# Create the SpotifyOAuth object\n",
        "sp_oauth = SpotifyOAuth(client_id=CLIENT_ID,\n",
        "                        client_secret=CLIENT_SECRET,\n",
        "                        redirect_uri=REDIRECT_URI,\n",
        "                        scope=SCOPE)\n",
        "\n",
        "# Get the authorization URL\n",
        "auth_url = sp_oauth.get_authorize_url()\n",
        "print(\"Please navigate here to authorize:\", auth_url)\n",
        "\n",
        "# After authorizing, paste the full redirect URL here\n",
        "response = input(\"Paste the full redirect URL here: \")\n",
        "\n",
        "# Extract the authorization code from the redirect URL\n",
        "code = sp_oauth.parse_response_code(response)\n",
        "print(f\"Authorization code: {code}\")\n",
        "\n",
        "# Get the access token\n",
        "token_info = sp_oauth.get_access_token(code, as_dict=False)\n",
        "access_token = token_info\n",
        "\n",
        "# Create the Spotify object\n",
        "sp = spotipy.Spotify(auth=access_token)\n",
        "\n"
      ]
    },
    {
      "cell_type": "code",
      "execution_count": null,
      "metadata": {
        "colab": {
          "base_uri": "https://localhost:8080/",
          "height": 53
        },
        "id": "yZ7E0K0X4b7a",
        "outputId": "32e270e9-ce3e-4536-8af7-e32c5b13ae97"
      },
      "outputs": [],
      "source": [
        "print('Your Access Token!!')\n",
        "access_token"
      ]
    }
  ],
  "metadata": {
    "colab": {
      "include_colab_link": true,
      "provenance": []
    },
    "kernelspec": {
      "display_name": "Python 3",
      "name": "python3"
    },
    "language_info": {
      "name": "python"
    }
  },
  "nbformat": 4,
  "nbformat_minor": 0
}
